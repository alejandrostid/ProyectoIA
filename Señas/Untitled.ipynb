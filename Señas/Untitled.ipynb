{
 "cells": [
  {
   "cell_type": "markdown",
   "id": "b7ad5d0c",
   "metadata": {
    "scrolled": false
   },
   "source": [
    "# SET DE DATOS\n",
    "CARACTERISTICAS RELEBANTES DE LAS 200 IMAGENES TOMADAS. "
   ]
  },
  {
   "cell_type": "code",
   "execution_count": null,
   "id": "d06a9d7e",
   "metadata": {
    "scrolled": false
   },
   "outputs": [],
   "source": [
    "import pandas as pd\n",
    "\n",
    "df = pd.read_csv(\"setTexto.csv\",index_col =\"NOMBRE DE LA IMAGEN\")\n",
    "#df[:200]\n",
    "df"
   ]
  },
  {
   "cell_type": "markdown",
   "id": "760d4735",
   "metadata": {},
   "source": [
    "# GRAFICA DE TAMAÑO Y RESOLUCION EN PIXELES DE TODAS LA IMAGENES"
   ]
  },
  {
   "cell_type": "code",
   "execution_count": null,
   "id": "ef283233",
   "metadata": {
    "scrolled": true
   },
   "outputs": [],
   "source": [
    "import matplotlib.pyplot as plt\n",
    "\n",
    "\n",
    "bus = df[[\"TAMAÑO(ANCHO)\",\"TAMAÑO(ALTURA)\",\"RESOLUCION(mp)\"]]\n",
    "muestra = bus.copy()\n",
    "\n",
    "muestra.plot(kind = \"bar\")"
   ]
  },
  {
   "cell_type": "markdown",
   "id": "1113cfbd",
   "metadata": {},
   "source": [
    "# CAPTURA DE LAS IMAGENES POR MEDIO DE OPEN CV"
   ]
  },
  {
   "cell_type": "code",
   "execution_count": null,
   "id": "6e6be0ba",
   "metadata": {},
   "outputs": [],
   "source": [
    "import cv2 \n",
    "import numpy as np\n",
    "import os\n",
    "import matplotlib.pyplot as plt\n",
    "import tensorflow as tf\n",
    "\n",
    "def toma_imgs(ruta,señal_listas,tamaño):\n",
    "    i=0\n",
    "    for x in ruta:\n",
    "        for seña in os.listdir(ruta[i]):\n",
    "\n",
    "            seña = cv2.imread(os.path.join(ruta[i],seña),cv2.IMREAD_GRAYSCALE)\n",
    "            seña_v = cv2.resize(seña,(tamaño,tamaño))\n",
    "            seña_v = seña_v.reshape(tamaño,tamaño,1)\n",
    "            print(seña_v.shape)\n",
    "            señal_listas.append([seña_v])\n",
    "            print(señal_listas)\n",
    "        i +=1\n",
    "\n",
    "sie_rutaA=[\"../SSM/SIE/A\"]\n",
    "sip_rutaA=[\"../SSM/SIP/A\"]\n",
    "sie_rutaB=[\"../SSM/SIE/B\"]\n",
    "sip_rutaB=[\"../SSM/SIP/B\"]\n",
    "sie_rutaC=[\"../SSM/SIE/C\"]\n",
    "sip_rutaC=[\"../SSM/SIP/C\"]\n",
    "sie_rutaD=[\"../SSM/SIE/D\"]\n",
    "sip_rutaD=[\"../SSM/SIP/D\"]\n",
    "sie_rutaE=[\"../SSM/SIE/E\"]\n",
    "sip_rutaE=[\"../SSM/SIP/E\"]\n",
    "sie_rutaF=[\"../SSM/SIE/F\"]\n",
    "sip_rutaF=[\"../SSM/SIP/F\"]\n",
    "sie_rutaI=[\"../SSM/SIE/I\"]\n",
    "sip_rutaI=[\"../SSM/SIP/I\"]\n",
    "sie_rutaK=[\"../SSM/SIE/K\"]\n",
    "sip_rutaK=[\"../SSM/SIP/K\"]\n",
    "sie_rutaL=[\"../SSM/SIE/L\"]\n",
    "sip_rutaL=[\"../SSM/SIP/L\"]\n",
    "sie_rutaM=[\"../SSM/SIE/M\"]\n",
    "sip_rutaM=[\"../SSM/SIP/M\"]\n",
    "sie_rutaN=[\"../SSM/SIE/N\"]\n",
    "sip_rutaN=[\"../SSM/SIP/N\"]\n",
    "sie_rutaO=[\"../SSM/SIE/O\"]\n",
    "sip_rutaO=[\"../SSM/SIP/O\"]\n",
    "sie_rutaP=[\"../SSM/SIE/P\"]\n",
    "sip_rutaP=[\"../SSM/SIP/P\"]\n",
    "sie_rutaQ=[\"../SSM/SIE/Q\"]\n",
    "sip_rutaQ=[\"../SSM/SIP/Q\"]\n",
    "sie_rutaR=[\"../SSM/SIE/R\"]\n",
    "sip_rutaR=[\"../SSM/SIP/R\"]\n",
    "sie_rutaT=[\"../SSM/SIE/T\"]\n",
    "sip_rutaT=[\"../SSM/SIP/T\"]\n",
    "sie_rutaU=[\"../SSM/SIE/U\"]\n",
    "sip_rutaU=[\"../SSM/SIP/U\"]\n",
    "sie_rutaV=[\"../SSM/SIE/V\"]\n",
    "sip_rutaV=[\"../SSM/SIP/V\"]\n",
    "sie_rutaW=[\"../SSM/SIE/W\"]\n",
    "sip_rutaW=[\"../SSM/SIP/W\"]\n",
    "sie_rutaY=[\"../SSM/SIE/Y\"]\n",
    "sip_rutaY=[\"../SSM/SIP/Y\"]\n",
    "\n",
    "sie_señal_listasA = []\n",
    "sip_señal_listasA = []\n",
    "sie_señal_listasB =[]\n",
    "sip_señal_listasB =[]\n",
    "sie_señal_listasC =[]\n",
    "sip_señal_listasC =[]\n",
    "sie_señal_listasD =[]\n",
    "sip_señal_listasD =[]\n",
    "sie_señal_listasE =[]\n",
    "sip_señal_listasE =[]\n",
    "sie_señal_listasF =[] \n",
    "sip_señal_listasF =[] \n",
    "\n",
    "tamaño = 100\n",
    "\n",
    "toma_imgs(sie_rutaA,sie_señal_listasA,tamaño)\n",
    "toma_imgs(sip_rutaA,sip_señal_listasA,tamaño)\n",
    "toma_imgs(sie_rutaB,sie_señal_listasB,tamaño)\n",
    "toma_imgs(sip_rutaB,sip_señal_listasB,tamaño)\n",
    "toma_imgs(sie_rutaC,sie_señal_listasC,tamaño)\n",
    "toma_imgs(sip_rutaC,sip_señal_listasC,tamaño)\n",
    "toma_imgs(sie_rutaD,sie_señal_listasD,tamaño)\n",
    "toma_imgs(sip_rutaD,sip_señal_listasD,tamaño)\n",
    "toma_imgs(sie_rutaE,sie_señal_listasE,tamaño)\n",
    "toma_imgs(sip_rutaE,sip_señal_listasE,tamaño)\n",
    "toma_imgs(sie_rutaF,sie_señal_listasF,tamaño)\n",
    "toma_imgs(sie_rutaF,sip_señal_listasF,tamaño)\n",
    "\n",
    "\n",
    "\n",
    "#señal = cv2.imread('señas/Derecha/A/a1.jpg',cv2.IMREAD_GRAYSCALE)\n",
    "#print('Original Dimensions : ',señal.shape)\n",
    "#señal = cv2.resize(señal,(80,80))\n",
    "#cv2.imshow('/señas/Derecha/A/a1.jpg',señal)\n",
    "#cv2.destroyAllWindows()"
   ]
  },
  {
   "cell_type": "markdown",
   "id": "a246f4db",
   "metadata": {},
   "source": [
    "# SET DE IMAGENES EN ESCALA DE GRISES"
   ]
  },
  {
   "cell_type": "code",
   "execution_count": null,
   "id": "2eb08486",
   "metadata": {},
   "outputs": [],
   "source": [
    "import matplotlib.pyplot as plt\n",
    "def mostrar (señal_listas):\n",
    "  z=0\n",
    "  for x in señal_listas:           \n",
    "    plt.figure()\n",
    "    plt.imshow(np.squeeze(señal_listas[z]),cmap='gray')\n",
    "    plt.colorbar()\n",
    "    plt.grid(False)\n",
    "    plt.show()\n",
    "    z+=1\n",
    "               \n",
    "mostrar(sie_señal_listasA)\n"
   ]
  },
  {
   "cell_type": "markdown",
   "id": "cce4497a",
   "metadata": {},
   "source": [
    "# NUEVO"
   ]
  },
  {
   "cell_type": "markdown",
   "id": "ef0a7c4b",
   "metadata": {},
   "source": [
    "## Normalizacion De Datosa"
   ]
  },
  {
   "cell_type": "markdown",
   "id": "edfa02f6",
   "metadata": {},
   "source": [
    "### Datos De Entrenamiento"
   ]
  },
  {
   "cell_type": "code",
   "execution_count": null,
   "id": "b5ee627d",
   "metadata": {},
   "outputs": [],
   "source": [
    "datosEntrenamiento= np.concatenate((sie_señal_listasA,sie_señal_listasB,\n",
    "sie_señal_listasC,sie_señal_listasD,sie_señal_listasE,sie_señal_listasF))\n",
    "\n",
    "datosEntrenamiento=np.array(datosEntrenamiento).astype(float) /255\n",
    "\n",
    "#Para que funciones nuestro entrenamiento nesecitamos eliminar el primer elemento de nuestro shape\n",
    "\n",
    "datosEntrenamiento = datosEntrenamiento[:,0,: ]\n",
    "print(datosEntrenamiento.shape)\n",
    "print(datosEntrenamiento)"
   ]
  },
  {
   "cell_type": "markdown",
   "id": "377cfa43",
   "metadata": {},
   "source": [
    "### Datos DE Prueva"
   ]
  },
  {
   "cell_type": "code",
   "execution_count": null,
   "id": "a2a2b002",
   "metadata": {},
   "outputs": [],
   "source": [
    "datosPrueva= np.concatenate([sip_señal_listasA,sip_señal_listasB,\n",
    "sip_señal_listasC,sip_señal_listasD,sip_señal_listasE,sip_señal_listasF])\n",
    "\n",
    "datosEntrenamiento=np.array(datosEntrenamiento).astype(float) /255\n",
    "\n",
    "datosPrueva = datosPrueva[:,0,: ]\n",
    "datosPrueva=np.array(datosPrueva)\n",
    "print(datosPrueva.shape)\n",
    "\n"
   ]
  },
  {
   "cell_type": "markdown",
   "id": "f230dffa",
   "metadata": {},
   "source": [
    "### Etiquetado De Datos De Entrenamiento"
   ]
  },
  {
   "cell_type": "code",
   "execution_count": null,
   "id": "b6dff126",
   "metadata": {},
   "outputs": [],
   "source": [
    "def etiquetas(señal_listas,num):\n",
    " etiquetas = np.repeat(num,len(señal_listas))\n",
    " return(etiquetas)\n",
    "\n",
    "et_a=etiquetas(sie_señal_listasA,0)\n",
    "et_b=etiquetas(sie_señal_listasB,1)\n",
    "et_c=etiquetas(sie_señal_listasC,2)\n",
    "et_d=etiquetas(sie_señal_listasD,3)\n",
    "et_e=etiquetas(sie_señal_listasE,4)\n",
    "et_f=etiquetas(sie_señal_listasF,5)\n",
    "\n",
    "print(et_a)\n",
    "print(et_b)\n",
    "print(et_c)\n",
    "print(et_d)\n",
    "print(et_e)\n",
    "print(et_f)"
   ]
  },
  {
   "cell_type": "code",
   "execution_count": null,
   "id": "0b233221",
   "metadata": {},
   "outputs": [],
   "source": [
    "class_name = ['A', 'B', 'C', 'D', 'E', 'F']"
   ]
  },
  {
   "cell_type": "code",
   "execution_count": null,
   "id": "40c5a0b8",
   "metadata": {},
   "outputs": [],
   "source": [
    "labels = np.concatenate([et_a,et_b,et_c,et_d,et_e,et_f])\n",
    "Labels = np.array(labels)\n",
    "print(Labels)\n",
    "print(Labels.shape)"
   ]
  },
  {
   "cell_type": "code",
   "execution_count": null,
   "id": "92a07924",
   "metadata": {},
   "outputs": [],
   "source": [
    "plt.figure(figsize=(70,70))\n",
    "for i in range(35):\n",
    "#    print(imagenes[i])\n",
    "    plt.subplot(7,7,i+1)\n",
    "    plt.xticks([])\n",
    "    plt.yticks([])\n",
    "    plt.grid(False)\n",
    "    plt.imshow(np.squeeze(datosEntrenamiento[i]),cmap='gray')\n",
    "    plt.xlabel(class_name[Labels[i]])\n",
    "plt.show()\n",
    "\n"
   ]
  },
  {
   "cell_type": "code",
   "execution_count": null,
   "id": "377c54f1",
   "metadata": {},
   "outputs": [],
   "source": [
    "from __future__ import absolute_import, division, print_function, unicode_literals\n",
    "\n",
    "variable_name = \"\"\n",
    "try:\n",
    "  # %tensorflow_version only exists in Colab.\n",
    "  %tensorflow_version 2.x\n",
    "except Exception:\n",
    "  pass\n",
    "\n",
    "from __future__ import absolute_import, division, print_function, unicode_literals\n",
    "import matplotlib.pyplot as plt\n",
    "print(tf.__version__)"
   ]
  },
  {
   "cell_type": "code",
   "execution_count": null,
   "id": "f5d17d21",
   "metadata": {},
   "outputs": [],
   "source": [
    "modelo = tf.keras.Sequential([\n",
    "    tf.keras.layers.Conv2D(32,(3,3),activation='relu',input_shape=(100,100,1)),\n",
    "    tf.keras.layers.MaxPooling2D(2,2),\n",
    "    \n",
    "    tf.keras.layers.Conv2D(64,(3,3),activation='relu'),\n",
    "    tf.keras.layers.MaxPooling2D(2,2),\n",
    "    \n",
    "    tf.keras.layers.Dropout(0.5),\n",
    "    tf.keras.layers.Flatten(),\n",
    "    tf.keras.layers.Dense(units=100, activation='relu'),\n",
    "    tf.keras.layers.Dense(10, activation= 'softmax')\n",
    "])\n",
    "modelo.compile(\n",
    "    optimizer='adam',\n",
    "    loss= 'sparse_categorical_crossentropy',\n",
    "    metrics=['accuracy'])\n"
   ]
  },
  {
   "cell_type": "code",
   "execution_count": null,
   "id": "ca20d97a",
   "metadata": {},
   "outputs": [],
   "source": [
    "historial=modelo.fit(datosEntrenamiento, Labels, epochs=150)"
   ]
  },
  {
   "cell_type": "code",
   "execution_count": null,
   "id": "c667ea3c",
   "metadata": {},
   "outputs": [],
   "source": [
    "plt.xlabel(\"# Epoca\")\n",
    "plt.ylabel(\"Magnitud de pérdida\")\n",
    "plt.plot(historial.history[\"loss\"])"
   ]
  },
  {
   "cell_type": "code",
   "execution_count": null,
   "id": "05381162",
   "metadata": {},
   "outputs": [],
   "source": [
    "#Probar una imagen suelta\n",
    "imagen = datosPrueva[20] #AL ser la variable imagenes_prueba solo tiene lo que se le puso en el bloque anterior heheh\n",
    "imagen = np.array([imagen])\n",
    "prediccion = modelo.predict(imagen)\n",
    "\n",
    "print(\"Prediccion: \" + class_name[np.argmax(prediccion[0])])"
   ]
  },
  {
   "cell_type": "code",
   "execution_count": null,
   "id": "da2a5320",
   "metadata": {},
   "outputs": [],
   "source": [
    "img=datosPrueva[0]\n",
    "print(img.shape)\n",
    "img =(np.expand_dims(img,0))\n",
    "print(img.shape)\n",
    "\n",
    "plt.figure()\n",
    "plt.imshow(datosPrueva[6])\n",
    "plt.colorbar()\n",
    "plt.grid(False)\n",
    "plt.show()"
   ]
  },
  {
   "cell_type": "code",
   "execution_count": null,
   "id": "1eabf1d3",
   "metadata": {},
   "outputs": [],
   "source": [
    "predictions_single = modelo.predict (img)\n",
    "print(predictions_single) \n",
    "print(np.sum(predictions single)\n",
    "print(np.argmax(predictions_single)\n",
    "print(class_names[np.argmax(predictions single)])"
   ]
  }
 ],
 "metadata": {
  "interpreter": {
   "hash": "e7370f93d1d0cde622a1f8e1c04877d8463912d04d973331ad4851f04de6915a"
  },
  "kernelspec": {
   "display_name": "Python 3.10.4 64-bit",
   "language": "python",
   "name": "python3"
  },
  "language_info": {
   "codemirror_mode": {
    "name": "ipython",
    "version": 3
   },
   "file_extension": ".py",
   "mimetype": "text/x-python",
   "name": "python",
   "nbconvert_exporter": "python",
   "pygments_lexer": "ipython3",
   "version": "3.10.4"
  }
 },
 "nbformat": 4,
 "nbformat_minor": 5
}
